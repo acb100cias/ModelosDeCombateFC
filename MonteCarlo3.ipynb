{
 "cells": [
  {
   "cell_type": "code",
   "execution_count": 1,
   "id": "33eeeeb0-afb4-4810-addf-04a6281d4a6d",
   "metadata": {
    "tags": []
   },
   "outputs": [],
   "source": [
    "import numpy as np\n",
    "import matplotlib.pyplot as plt\n",
    "import sympy as sp"
   ]
  },
  {
   "cell_type": "markdown",
   "id": "c62d1a45-d9da-4e6a-933b-705b195bf601",
   "metadata": {},
   "source": [
    "Integrar\n",
    "\n",
    "$$ cos(x^4) +3y^2 $$\n",
    "\n",
    "con $x\\in(4,6) $ y $y\\in(0,1)$"
   ]
  },
  {
   "cell_type": "markdown",
   "id": "1e9b410a-2d95-4084-9254-a7dcad35e1fe",
   "metadata": {},
   "source": [
    "Usando Monte Carlo, aproximamos:\n",
    "\n",
    "$$\n",
    "\\int_0^1\\int_4^6 \\cos(x^4) + 3y^2 dxdy=\\frac{(6-4)}{N}\\sum_{i=1}^N \\cos(X_i^4) + 3Y_i^2\n",
    "$$"
   ]
  },
  {
   "cell_type": "code",
   "execution_count": 2,
   "id": "21cb0223-08f4-46e5-b516-149c2c4c9f9d",
   "metadata": {
    "tags": []
   },
   "outputs": [],
   "source": [
    "x=sp.Symbol('x')\n",
    "y=sp.Symbol('y')\n",
    "IntegSymb=sp.integrate(sp.cos(x**4)+3*y**2,(x,4,6),(y,0,1))"
   ]
  },
  {
   "cell_type": "code",
   "execution_count": 3,
   "id": "67da4f2d-307e-4997-9556-35c3796127d9",
   "metadata": {
    "tags": []
   },
   "outputs": [
    {
     "data": {
      "text/latex": [
       "$\\displaystyle \\frac{3 \\Gamma\\left(\\frac{1}{8}\\right) {{}_{1}F_{2}\\left(\\begin{matrix} \\frac{1}{8} \\\\ \\frac{1}{2}, \\frac{9}{8} \\end{matrix}\\middle| {-419904} \\right)} - 2 \\Gamma\\left(\\frac{1}{8}\\right) {{}_{1}F_{2}\\left(\\begin{matrix} \\frac{1}{8} \\\\ \\frac{1}{2}, \\frac{9}{8} \\end{matrix}\\middle| {-16384} \\right)}}{4 \\Gamma\\left(\\frac{9}{8}\\right)} + 2$"
      ],
      "text/plain": [
       "(3*gamma(1/8)*hyper((1/8,), (1/2, 9/8), -419904) - 2*gamma(1/8)*hyper((1/8,), (1/2, 9/8), -16384))/(4*gamma(9/8)) + 2"
      ]
     },
     "execution_count": 3,
     "metadata": {},
     "output_type": "execute_result"
    }
   ],
   "source": [
    "IntegSymb"
   ]
  },
  {
   "cell_type": "code",
   "execution_count": 4,
   "id": "b1492478-1baf-47d1-9a1e-581dacb5439d",
   "metadata": {
    "tags": []
   },
   "outputs": [],
   "source": [
    "IntegNum=float(IntegSymb)"
   ]
  },
  {
   "cell_type": "code",
   "execution_count": 5,
   "id": "cc648858-0c33-4285-ad47-a906af39101c",
   "metadata": {
    "tags": []
   },
   "outputs": [
    {
     "data": {
      "text/plain": [
       "2.005055086749674"
      ]
     },
     "execution_count": 5,
     "metadata": {},
     "output_type": "execute_result"
    }
   ],
   "source": [
    "IntegNum"
   ]
  },
  {
   "cell_type": "code",
   "execution_count": 32,
   "id": "f7099cc7-5ab3-481a-8b1c-e6ad7b3b0219",
   "metadata": {
    "tags": []
   },
   "outputs": [],
   "source": [
    "N=100000\n",
    "suma=0.0\n",
    "for i in range(N):\n",
    "    x=np.random.uniform(4,6)\n",
    "    y=np.random.uniform(0,1)\n",
    "    suma=suma+np.cos(x**4)+3*y**2\n",
    "integral=(2/N)*suma\n"
   ]
  },
  {
   "cell_type": "code",
   "execution_count": 15,
   "id": "691cb6b7-6552-4475-bdfd-6d85e6ae6cf4",
   "metadata": {
    "tags": []
   },
   "outputs": [
    {
     "data": {
      "text/plain": [
       "2.0072046336991174"
      ]
     },
     "execution_count": 15,
     "metadata": {},
     "output_type": "execute_result"
    }
   ],
   "source": [
    "integral"
   ]
  },
  {
   "cell_type": "code",
   "execution_count": 33,
   "id": "58b7ea26-1d70-44c3-b09d-db1f84963521",
   "metadata": {
    "tags": []
   },
   "outputs": [
    {
     "data": {
      "text/plain": [
       "0.0"
      ]
     },
     "execution_count": 33,
     "metadata": {},
     "output_type": "execute_result"
    }
   ],
   "source": [
    "round(abs(integral-IntegNum),2)"
   ]
  },
  {
   "cell_type": "markdown",
   "id": "0d48f3f1-6f14-4986-8fde-c308db1813cd",
   "metadata": {},
   "source": [
    "## Aproximación de $\\pi$ mediante integración MonteCarlo"
   ]
  },
  {
   "cell_type": "markdown",
   "id": "7f192030-3ac2-4eb3-a5fa-86bb1c85f00f",
   "metadata": {},
   "source": [
    "Aproximamos:\n",
    "\n",
    "$$\n",
    "\\int_{-1}^1\\int_{-1}^1 x^2+y^2 dxdy=\\frac{4}{N}\\sum...\n",
    "$$"
   ]
  },
  {
   "cell_type": "code",
   "execution_count": 37,
   "id": "b0b3e3f0-6377-4ebc-a29f-606fa58eb75a",
   "metadata": {
    "tags": []
   },
   "outputs": [],
   "source": [
    "def C_pi(N):\n",
    "    s=0.0\n",
    "    for i in range(N):\n",
    "        x=np.random.uniform(-1,1)\n",
    "        y=np.random.uniform(-1,1)\n",
    "        if x**2 + y**2 <= 1:\n",
    "            s = s+1\n",
    "    return 4/N*s\n",
    "        "
   ]
  },
  {
   "cell_type": "code",
   "execution_count": 47,
   "id": "3eabf72a-f16e-4143-8016-3cf710e90fa1",
   "metadata": {
    "tags": []
   },
   "outputs": [
    {
     "data": {
      "text/plain": [
       "0.0"
      ]
     },
     "execution_count": 47,
     "metadata": {},
     "output_type": "execute_result"
    }
   ],
   "source": [
    "round(abs(np.pi-C_pi(100000)),2)"
   ]
  },
  {
   "cell_type": "code",
   "execution_count": 55,
   "id": "0af9bead-8236-430b-ad5f-01f14f02a849",
   "metadata": {
    "tags": []
   },
   "outputs": [
    {
     "data": {
      "text/plain": [
       "3.141956"
      ]
     },
     "execution_count": 55,
     "metadata": {},
     "output_type": "execute_result"
    }
   ],
   "source": [
    "C_pi(1000000)"
   ]
  },
  {
   "cell_type": "code",
   "execution_count": null,
   "id": "29ab5576-749c-4601-ae36-78a8364b15c4",
   "metadata": {},
   "outputs": [],
   "source": []
  }
 ],
 "metadata": {
  "kernelspec": {
   "display_name": "Python 3",
   "language": "python",
   "name": "python3"
  },
  "language_info": {
   "codemirror_mode": {
    "name": "ipython",
    "version": 3
   },
   "file_extension": ".py",
   "mimetype": "text/x-python",
   "name": "python",
   "nbconvert_exporter": "python",
   "pygments_lexer": "ipython3",
   "version": "3.9.2"
  }
 },
 "nbformat": 4,
 "nbformat_minor": 5
}
