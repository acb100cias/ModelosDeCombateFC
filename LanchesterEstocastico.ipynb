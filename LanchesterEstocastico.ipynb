{
 "cells": [
  {
   "cell_type": "code",
   "execution_count": 1,
   "id": "fe210f6d-5e7b-457e-8d9d-e33fe449104c",
   "metadata": {},
   "outputs": [],
   "source": [
    "import numpy as np\n",
    "import pandas as pd\n",
    "\n"
   ]
  },
  {
   "cell_type": "code",
   "execution_count": 6,
   "id": "bbf0c794-9be8-42c9-9058-3832ab7afda6",
   "metadata": {},
   "outputs": [],
   "source": [
    "def shooting_a(bs,s,ap,dmg,t,sv,w,n_shots=1):\n",
    "    p_miss=(bs-1)/6\n",
    "    p_hit=1-p_miss\n",
    "    if s>=t*2:\n",
    "        wound_on = 2\n",
    "    elif s> t:\n",
    "        wound_on = 3\n",
    "    elif s==t:\n",
    "        wound_on = 4\n",
    "    elif s<=t/2:\n",
    "        wound_on = 5\n",
    "    else:\n",
    "        wound_on = 6\n",
    "        \n",
    "    p_not_wound_=(wound_on-1)/6\n",
    "    p_wound_=1-p_not_wound_\n",
    "    p_not_wound=p_not_wound_*p_hit\n",
    "    p_wound=p_wound_*p_hit\n",
    "\n",
    "    sv=sv+ap\n",
    "    p_not_sv_=(sv-1)/6\n",
    "    p_sv_=1-p_not_sv_\n",
    "    p_not_sv=p_not_sv_*p_wound\n",
    "    p_sv=p_sv_*p_wound\n",
    "\n",
    "    wounds=dmg*p_not_sv\n",
    "    models=wounds/w\n",
    "\n",
    "    ret=pd.Series({\n",
    "        '# Hit': p_hit,\n",
    "        '# Miss': p_miss,\n",
    "        '# Wound': p_wound,\n",
    "        '# fail to Wound': p_not_wound,\n",
    "        '# Saved': p_sv,\n",
    "        '# fail to Save': p_not_sv,\n",
    "        '# Models Killed': models\n",
    "    })\n",
    "    ret*=n_shots\n",
    "    return ret.to_frame('Expected')\n",
    "    "
   ]
  },
  {
   "cell_type": "code",
   "execution_count": 23,
   "id": "457fcc89-7aba-4150-bc89-9ef16cb96c9c",
   "metadata": {},
   "outputs": [],
   "source": [
    "r, b = 50, 50\n",
    "table = [(r, b)]\n",
    "while r > 1e-5 and b > 1e-5:\n",
    "    b = max(b - shooting_a(4, 3, 0, 1, 3, 5, 1, n_shots=r).loc['# Models Killed', 'Expected'], 0)\n",
    "    r = max(r - shooting_a(4, 3, 0, 1, 3, 5, 1, n_shots=b).loc['# Models Killed', 'Expected'], 0)\n",
    "    table.append((r, b))\n",
    "table = pd.DataFrame(\n",
    "    table,\n",
    "    columns=['# Red', '# Blue'],\n",
    "    index=pd.Index(['Initial', *range(1, len(table))], name='Battle Round'))"
   ]
  },
  {
   "cell_type": "code",
   "execution_count": 18,
   "id": "16672fc5-77fa-4a55-98ff-bdd53fe2c625",
   "metadata": {},
   "outputs": [
    {
     "data": {
      "text/plain": [
       "<Axes: xlabel='Battle Round'>"
      ]
     },
     "execution_count": 18,
     "metadata": {},
     "output_type": "execute_result"
    },
    {
     "data": {
      "image/png": "[encoded data removed]",
      "text/plain": [
       "<Figure size 640x480 with 1 Axes>"
      ]
     },
     "metadata": {},
     "output_type": "display_data"
    }
   ],
   "source": [
    "table.plot()"
   ]
  },
  {
   "cell_type": "code",
   "execution_count": 19,
   "id": "a362a045-383c-4ea1-bbcf-059eaf3d552f",
   "metadata": {},
   "outputs": [],
   "source": [
    "def d6(n):\n",
    "    return np.random.randint(1, 7, n)\n",
    "\n",
    "def shooting_s(bs, s, ap, dmg, t, sv, w, n_shots=1, n_iterations=1000):\n",
    "    n_shots = np.broadcast_to(n_shots, n_iterations)\n",
    "    n_d6 = n_shots.sum()\n",
    "\n",
    "    did_hit = d6(n_d6) >= bs\n",
    "\n",
    "    if s >= t * 2:\n",
    "        wound_on = 2\n",
    "    elif s > t:\n",
    "        wound_on = 3\n",
    "    elif s == t:\n",
    "        wound_on = 4\n",
    "    elif s <= t / 2:\n",
    "        wound_on = 6\n",
    "    else:\n",
    "        wound_on = 5\n",
    "    did_wound = did_hit & (d6(n_d6) >= wound_on)\n",
    "\n",
    "    sv_ = sv + ap\n",
    "    did_save = did_wound & (d6(n_d6) >= sv_)\n",
    "\n",
    "    wounds = (did_wound & ~did_save) * dmg\n",
    "    models = wounds / w\n",
    "\n",
    "    return pd.DataFrame(dict(\n",
    "        shot=np.arange(n_shots.sum()) - np.repeat(n_shots.cumsum() - n_shots, n_shots),\n",
    "        run=np.repeat(np.arange(n_iterations), n_shots),\n",
    "        did_hit=did_hit,\n",
    "        did_wound=did_wound,\n",
    "        did_save=did_save,\n",
    "        wounds=wounds,\n",
    "        models=models))"
   ]
  },
  {
   "cell_type": "code",
   "execution_count": 25,
   "id": "9793d736-30c8-45f6-9a78-77991368198f",
   "metadata": {},
   "outputs": [],
   "source": [
    "n_iterations = 1000000\n",
    "r = pd.Series(10, index=range(n_iterations))\n",
    "b = pd.Series(10, index=range(n_iterations))\n",
    "while ((r != 0) & (b != 0)).any():\n",
    "    r_shots = shooting_s(4, 3, 0, 1, 3, 5, 1, n_shots=r, n_iterations=len(r))\n",
    "    b = b.subtract(r_shots.groupby('run').models.sum(), fill_value=0).clip(lower=0).astype(int)\n",
    "\n",
    "    b_shots = shooting_s(4, 3, 0, 1, 3, 5, 1, n_shots=b, n_iterations=len(b))\n",
    "    r = r.subtract(b_shots.groupby('run').models.sum(), fill_value=0).clip(lower=0).astype(int)"
   ]
  },
  {
   "cell_type": "code",
   "execution_count": 26,
   "id": "6135738e-7fd4-4c94-961f-2515829737f1",
   "metadata": {},
   "outputs": [],
   "source": [
    "table2 = pd.concat([\n",
    "    r[r > 0].value_counts().rename('Red Wins'),\n",
    "    b[b > 0].value_counts().rename('Blue Wins'),\n",
    "], axis=1)\n",
    "table2 = table2.fillna(0).astype(int)\n",
    "table2 /= table2.values.sum()"
   ]
  },
  {
   "cell_type": "code",
   "execution_count": 27,
   "id": "6832383b-f571-4286-9d68-2661d5bed8cc",
   "metadata": {},
   "outputs": [
    {
     "data": {
      "text/html": [
       "<div>\n",
       "<style scoped>\n",
       "    .dataframe tbody tr th:only-of-type {\n",
       "        vertical-align: middle;\n",
       "    }\n",
       "\n",
       "    .dataframe tbody tr th {\n",
       "        vertical-align: top;\n",
       "    }\n",
       "\n",
       "    .dataframe thead th {\n",
       "        text-align: right;\n",
       "    }\n",
       "</style>\n",
       "<table border=\"1\" class=\"dataframe\">\n",
       "  <thead>\n",
       "    <tr style=\"text-align: right;\">\n",
       "      <th></th>\n",
       "      <th>Red Wins</th>\n",
       "      <th>Blue Wins</th>\n",
       "    </tr>\n",
       "  </thead>\n",
       "  <tbody>\n",
       "    <tr>\n",
       "      <th>7</th>\n",
       "      <td>0.105031</td>\n",
       "      <td>0.048133</td>\n",
       "    </tr>\n",
       "    <tr>\n",
       "      <th>6</th>\n",
       "      <td>0.101032</td>\n",
       "      <td>0.058543</td>\n",
       "    </tr>\n",
       "    <tr>\n",
       "      <th>8</th>\n",
       "      <td>0.092759</td>\n",
       "      <td>0.032004</td>\n",
       "    </tr>\n",
       "    <tr>\n",
       "      <th>5</th>\n",
       "      <td>0.086209</td>\n",
       "      <td>0.060260</td>\n",
       "    </tr>\n",
       "    <tr>\n",
       "      <th>4</th>\n",
       "      <td>0.068251</td>\n",
       "      <td>0.054881</td>\n",
       "    </tr>\n",
       "    <tr>\n",
       "      <th>9</th>\n",
       "      <td>0.062295</td>\n",
       "      <td>0.014977</td>\n",
       "    </tr>\n",
       "    <tr>\n",
       "      <th>3</th>\n",
       "      <td>0.049748</td>\n",
       "      <td>0.044426</td>\n",
       "    </tr>\n",
       "    <tr>\n",
       "      <th>2</th>\n",
       "      <td>0.032011</td>\n",
       "      <td>0.030714</td>\n",
       "    </tr>\n",
       "    <tr>\n",
       "      <th>10</th>\n",
       "      <td>0.023501</td>\n",
       "      <td>0.003731</td>\n",
       "    </tr>\n",
       "    <tr>\n",
       "      <th>1</th>\n",
       "      <td>0.015633</td>\n",
       "      <td>0.015861</td>\n",
       "    </tr>\n",
       "  </tbody>\n",
       "</table>\n",
       "</div>"
      ],
      "text/plain": [
       "    Red Wins  Blue Wins\n",
       "7   0.105031   0.048133\n",
       "6   0.101032   0.058543\n",
       "8   0.092759   0.032004\n",
       "5   0.086209   0.060260\n",
       "4   0.068251   0.054881\n",
       "9   0.062295   0.014977\n",
       "3   0.049748   0.044426\n",
       "2   0.032011   0.030714\n",
       "10  0.023501   0.003731\n",
       "1   0.015633   0.015861"
      ]
     },
     "execution_count": 27,
     "metadata": {},
     "output_type": "execute_result"
    }
   ],
   "source": [
    "table2\n"
   ]
  },
  {
   "cell_type": "code",
   "execution_count": null,
   "id": "025b2fbc-b3c7-461a-bf72-07c7653f9415",
   "metadata": {},
   "outputs": [],
   "source": []
  }
 ],
 "metadata": {
  "kernelspec": {
   "display_name": "Python 3 (ipykernel)",
   "language": "python",
   "name": "python3"
  },
  "language_info": {
   "codemirror_mode": {
    "name": "ipython",
    "version": 3
   },
   "file_extension": ".py",
   "mimetype": "text/x-python",
   "name": "python",
   "nbconvert_exporter": "python",
   "pygments_lexer": "ipython3",
   "version": "3.11.2"
  }
 },
 "nbformat": 4,
 "nbformat_minor": 5
}
