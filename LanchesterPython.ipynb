{
 "cells": [
  {
   "cell_type": "code",
   "execution_count": 1,
   "id": "077ba5d3-71e8-419f-8060-bc10ca56bc57",
   "metadata": {},
   "outputs": [],
   "source": [
    "from numpy import *\n",
    "from matplotlib.pyplot import *"
   ]
  },
  {
   "cell_type": "code",
   "execution_count": 38,
   "id": "112c4e42-a35c-4073-afad-4547dcb30f86",
   "metadata": {
    "tags": []
   },
   "outputs": [],
   "source": [
    "def calc_cuadrado(R,B, r_c,b_c,t):\n",
    "    R.append(R[t]-b_c*B[t])\n",
    "    B.append(B[t]-r_c*R[t])\n",
    "    return R,B\n",
    "def calc_lineal(R,B, r_l,b_l,t):\n",
    "    R.append(R[t]-b_l*B[t]*R[t])\n",
    "    B.append(B[t]-r_l*R[t]*B[t])\n",
    "    return R,B\n",
    "def cal_modif(R,B,r_c,b_c,r_l,b_l,r_f,b_f,s_b,s_r,r_i,b_i,t):\n",
    "    rVal=(R[t]-(1-b_f)*s_b*r_c*B[t]*b_i-(1-(1-r_f)*s_b)*r_l*B[t]*R[t]*b_i)\n",
    "    bVal=(B[t]-(1-b_f)*s_r*b_c*R[t]*r_i-(1-(1-b_f)*s_r)*b_l*R[t]*B[t]*r_i)\n",
    "    R.append(rVal)\n",
    "    B.append(bVal)\n",
    "    return R,B\n",
    "    "
   ]
  },
  {
   "cell_type": "code",
   "execution_count": 42,
   "id": "241f7d05-5c92-421e-8680-48d5f8c7444b",
   "metadata": {
    "tags": []
   },
   "outputs": [],
   "source": [
    "def cuadrado(R0,B0,r_c,b_c,T,dt):\n",
    "    R=[R0]\n",
    "    B=[B0]\n",
    "    for t in arange(0,T,dt):\n",
    "        calc_cuadrado(R,B,r_c,b_c,t)\n",
    "        if R[-1]<1e-6 or B[-1]<1e-6:\n",
    "            break\n",
    "    return R,B\n",
    "\n",
    "def lineal(R0,B0,r_l,b_l,T,dt):\n",
    "    R=[R0]\n",
    "    B=[B0]\n",
    "    for t in arange(0,T,dt):\n",
    "        calc_lineal(R,B,r_l,b_l,t)\n",
    "        if R[-1]<1e-6 or B[-1]<1e-6:\n",
    "            break\n",
    "    return R,B\n",
    "\n",
    "def modif(R0,B0,r_c,b_c,r_l,b_l,r_f,b_f,s_b,s_r,r_i,b_i,T,dt):\n",
    "    R=[R0]\n",
    "    B=[B0]\n",
    "    for t in arange(0,T,dt):\n",
    "        cal_modif(R,B,r_c,b_c,r_l,b_l,r_f,b_f,s_b,s_r,r_i,b_i,t)\n",
    "        if R[-1]<1e-6 or B[-1]<1e-6:\n",
    "            break\n",
    "    return R,B\n",
    "\n",
    "        "
   ]
  },
  {
   "cell_type": "code",
   "execution_count": 43,
   "id": "bf9d866a-2906-4efc-9e94-5cb6f2ce6b15",
   "metadata": {
    "tags": []
   },
   "outputs": [],
   "source": [
    "R0=8000\n",
    "B0=10000\n",
    "T=100\n",
    "dt=1\n",
    "\n",
    "r_l=0.00001\n",
    "b_l=0.00002\n",
    "\n",
    "r_c=0.2\n",
    "b_c=0.1\n",
    "\n",
    "r_f=0.6\n",
    "b_f=0.2\n",
    "r_a=0.6\n",
    "b_a=0.2\n",
    "\n",
    "r_i=4\n",
    "b_i=4\n",
    "\n",
    "s_b=0.6\n",
    "s_r=0.4"
   ]
  },
  {
   "cell_type": "code",
   "execution_count": 18,
   "id": "8e4de059-8598-4f9c-9d7b-bebc7270d5e5",
   "metadata": {
    "tags": []
   },
   "outputs": [],
   "source": [
    "R,B=cuadrado(R0,B0,r_c,b_c,T,dt)"
   ]
  },
  {
   "cell_type": "code",
   "execution_count": 21,
   "id": "b47021d3-a044-43d8-9c56-ed91887233e5",
   "metadata": {
    "tags": []
   },
   "outputs": [
    {
     "name": "stdout",
     "output_type": "stream",
     "text": [
      "Resultado de la Batalla: \n",
      "\n",
      "Gana Rojo\n",
      "3384 rojos  y   -146 azules\n"
     ]
    },
    {
     "data": {
      "text/plain": [
       "[<matplotlib.lines.Line2D at 0x7f07b15c1940>]"
      ]
     },
     "execution_count": 21,
     "metadata": {},
     "output_type": "execute_result"
    },
    {
     "data": {
      "image/png": "[encoded data removed]",
      "text/plain": [
       "<Figure size 432x288 with 1 Axes>"
      ]
     },
     "metadata": {
      "needs_background": "light"
     },
     "output_type": "display_data"
    }
   ],
   "source": [
    "R,B=cuadrado(R0,B0,r_c,b_c,T,dt)\n",
    "print('Resultado de la Batalla: \\n')\n",
    "if R[-1]>B[-1]:\n",
    "    print('Gana Rojo')\n",
    "else:\n",
    "    print('Gana Azul')\n",
    "    \n",
    "print(str(round(R[-1])) +' rojos'+ '  y   '+str(round(B[-1]))+ ' azules')\n",
    "\n",
    "t = arange(0, len(R) * dt, dt)\n",
    "plot(t,R,c='r')\n",
    "plot(t,B)"
   ]
  },
  {
   "cell_type": "code",
   "execution_count": 28,
   "id": "dc8e93e2-7065-45ce-9271-70096803eb31",
   "metadata": {
    "tags": []
   },
   "outputs": [
    {
     "name": "stdout",
     "output_type": "stream",
     "text": [
      "Resultado de la Batalla: \n",
      "\n",
      "Gana Azul\n",
      "0 rojos  y   6000 azules\n"
     ]
    },
    {
     "data": {
      "text/plain": [
       "[<matplotlib.lines.Line2D at 0x7f07b13b6460>]"
      ]
     },
     "execution_count": 28,
     "metadata": {},
     "output_type": "execute_result"
    },
    {
     "data": {
      "image/png": "[encoded data removed]",
      "text/plain": [
       "<Figure size 432x288 with 1 Axes>"
      ]
     },
     "metadata": {
      "needs_background": "light"
     },
     "output_type": "display_data"
    }
   ],
   "source": [
    "R,B=lineal(R0,B0,r_l,b_l,T,dt)\n",
    "print('Resultado de la Batalla: \\n')\n",
    "if R[-1]>B[-1]:\n",
    "    print('Gana Rojo')\n",
    "else:\n",
    "    print('Gana Azul')\n",
    "    \n",
    "print(str(round(R[-1])) +' rojos'+ '  y   '+str(round(B[-1]))+ ' azules')\n",
    "\n",
    "t = arange(0, len(R) * dt, dt)\n",
    "plot(t,R,c='r')\n",
    "plot(t,B)"
   ]
  },
  {
   "cell_type": "code",
   "execution_count": 47,
   "id": "53ce290e-b083-4601-a50e-bdcbc8a37e32",
   "metadata": {
    "tags": []
   },
   "outputs": [
    {
     "name": "stdout",
     "output_type": "stream",
     "text": [
      "Resultado de la Batalla: \n",
      "\n",
      "Gana Azul\n",
      "-291 rojos  y   3968 azules\n"
     ]
    },
    {
     "data": {
      "text/plain": [
       "[<matplotlib.lines.Line2D at 0x7f07b11c7b20>]"
      ]
     },
     "execution_count": 47,
     "metadata": {},
     "output_type": "execute_result"
    },
    {
     "data": {
      "image/png": "[encoded data removed]",
      "text/plain": [
       "<Figure size 432x288 with 1 Axes>"
      ]
     },
     "metadata": {
      "needs_background": "light"
     },
     "output_type": "display_data"
    }
   ],
   "source": [
    "R, B = modif(R0,B0,r_c,b_c,r_l,b_l,r_f,b_f,s_b,s_r,r_i,b_i,T,dt)\n",
    "print('Resultado de la Batalla: \\n')\n",
    "if R[-1]>B[-1]:\n",
    "    print('Gana Rojo')\n",
    "else:\n",
    "    print('Gana Azul')\n",
    "    \n",
    "print(str(round(R[-1])) +' rojos'+ '  y   '+str(round(B[-1]))+ ' azules')\n",
    "\n",
    "t = arange(0, len(R) * dt, dt)\n",
    "plot(t,R,c='r')\n",
    "plot(t,B)"
   ]
  },
  {
   "cell_type": "code",
   "execution_count": null,
   "id": "63e29a26-5cd4-4b18-8f81-1580c04c4156",
   "metadata": {},
   "outputs": [],
   "source": []
  }
 ],
 "metadata": {
  "kernelspec": {
   "display_name": "Python 3",
   "language": "python",
   "name": "python3"
  },
  "language_info": {
   "codemirror_mode": {
    "name": "ipython",
    "version": 3
   },
   "file_extension": ".py",
   "mimetype": "text/x-python",
   "name": "python",
   "nbconvert_exporter": "python",
   "pygments_lexer": "ipython3",
   "version": "3.9.2"
  }
 },
 "nbformat": 4,
 "nbformat_minor": 5
}
